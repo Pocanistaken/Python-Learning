{
  "nbformat": 4,
  "nbformat_minor": 0,
  "metadata": {
    "colab": {
      "provenance": []
    },
    "kernelspec": {
      "name": "python3",
      "display_name": "Python 3"
    },
    "language_info": {
      "name": "python"
    }
  },
  "cells": [
    {
      "cell_type": "markdown",
      "source": [
        "# Dictionary (Sözlükler)\n",
        "\n",
        "Python'da dict, ingilizcede sözlük anlamına gelen dictionary'nin kısaltması ile oluşturulmuş bir veriler topluluğudur (dize). Sıralanamaz ancak değiştirilebilir ve anahtarlarla çağırılabilir. Python'da dictionary oluştururken küme parantezi kullanılır ve her veri bir anahtar ve değerden oluşur."
      ],
      "metadata": {
        "id": "TMcTn7eFUbjK"
      }
    },
    {
      "cell_type": "code",
      "source": [
        "sözlük = {\"Elma\":0, \"Armut\":1, \"Patates\":2, \"Ananas\":3}"
      ],
      "metadata": {
        "id": "ftQwRBvlWPbk"
      },
      "execution_count": 36,
      "outputs": []
    },
    {
      "cell_type": "markdown",
      "source": [
        "Gördüğünüz üzere burada örnek bir sözlük oluşturduk şimdi python üzerinde bu oluşturduğumuz objenin türü ne olarak geçtiğini type() fonksiyonu ile kontrol edelim."
      ],
      "metadata": {
        "id": "lKQUJprmW2J1"
      }
    },
    {
      "cell_type": "code",
      "source": [
        "print(type(sözlük)) # Evet gördüğünüz üzere bu objenin türü pythonda dict (dictionary) olarak geçiyor."
      ],
      "metadata": {
        "colab": {
          "base_uri": "https://localhost:8080/"
        },
        "id": "3Nb6m8XuXD3b",
        "outputId": "efe6dbe4-b2cb-4c97-c042-4c28ede75136"
      },
      "execution_count": 37,
      "outputs": [
        {
          "output_type": "stream",
          "name": "stdout",
          "text": [
            "<class 'dict'>\n"
          ]
        }
      ]
    },
    {
      "cell_type": "markdown",
      "source": [
        "Peki örneğin yukarıda bahsettiğimiz gibi anahtar ve değer ilişkisi var ise (Key-Value) örneğin **Elma** değerine ayarlanmış **0** value değerini nasıl çağırabiliriz?"
      ],
      "metadata": {
        "id": "uRKeK3D-XoLN"
      }
    },
    {
      "cell_type": "code",
      "source": [
        "print(sözlük[\"Elma\"]) # Konsola 0 değeri yansıtılacak\n",
        "print(sözlük[\"Armut\"]) # Konsola 1 değeri yansıtılacak\n",
        "print(sözlük[\"Patates\"]) # Konsola 2 değeri yansıtılacak\n",
        "print(sözlük[\"Ananas\"]) # Konsola 3 değeri yansıtılacak"
      ],
      "metadata": {
        "colab": {
          "base_uri": "https://localhost:8080/"
        },
        "id": "8AibovpdYgyj",
        "outputId": "0290160a-5a65-48ad-d317-ac016a9774b7"
      },
      "execution_count": 38,
      "outputs": [
        {
          "output_type": "stream",
          "name": "stdout",
          "text": [
            "0\n",
            "1\n",
            "2\n",
            "3\n"
          ]
        }
      ]
    },
    {
      "cell_type": "markdown",
      "source": [
        "Sözlüklerde daha önceden belirlenmiş olan örneğin **Elma** anahtarının değerini nasıl değiştirebiliriz?"
      ],
      "metadata": {
        "id": "h-rfP5yKZImc"
      }
    },
    {
      "cell_type": "code",
      "source": [
        "sözlük[\"Elma\"] = 10 # Artık Elma anahtarının değeri 10 olarak ayarlandı\n",
        "print(sözlük[\"Elma\"]) # Konsola 10 değeri yansıtılacak."
      ],
      "metadata": {
        "colab": {
          "base_uri": "https://localhost:8080/"
        },
        "id": "HrzCDGqCeFmd",
        "outputId": "cc04709c-09d3-469c-f818-88384448c6d0"
      },
      "execution_count": 39,
      "outputs": [
        {
          "output_type": "stream",
          "name": "stdout",
          "text": [
            "10\n"
          ]
        }
      ]
    },
    {
      "cell_type": "markdown",
      "source": [
        "## İç içe Sözlükler"
      ],
      "metadata": {
        "id": "mEHfAoY9fH4b"
      }
    },
    {
      "cell_type": "code",
      "source": [
        "sözlük1 = {\"işlemciler\":{\"i9\":\"intel\",\"r9\":\"ryzen\",\"m2\":\"apple\"},\"hayvanlar\":{\"aslan\":\"vahşi\",\"kaplan\":\"vahşi\",\"kedi\":\"normal\"}}\n",
        "print(sözlük1[\"işlemciler\"]) # İşlemciler sözlüğüne eriştik.\n",
        "print(sözlük1[\"işlemciler\"][\"i9\"]) # İşlemciler sözcüğüne erişip i9 anahtarının değerini konsola bastırdık.\n",
        "print(sözlük1[\"hayvanlar\"]) # Hayvanlar sözlüğüne eriştik\n",
        "print(sözlük1[\"hayvanlar\"][\"aslan\"]) # Hayvanlar sözcüğüne erişip aslan değerini konsola bastırdık."
      ],
      "metadata": {
        "colab": {
          "base_uri": "https://localhost:8080/"
        },
        "id": "9GzqW2uEfV-G",
        "outputId": "4a4f81f3-1e65-467f-b8d5-379c657acb27"
      },
      "execution_count": 40,
      "outputs": [
        {
          "output_type": "stream",
          "name": "stdout",
          "text": [
            "{'i9': 'intel', 'r9': 'ryzen', 'm2': 'apple'}\n",
            "intel\n",
            "{'aslan': 'vahşi', 'kaplan': 'vahşi', 'kedi': 'normal'}\n",
            "vahşi\n"
          ]
        }
      ]
    },
    {
      "cell_type": "markdown",
      "source": [
        "## Sözlüklerdeki bazı temel özel fonksiyonlar\n"
      ],
      "metadata": {
        "id": "RVfP1uGVi-2m"
      }
    },
    {
      "cell_type": "markdown",
      "source": [
        "Sözcük üzerindeki tüm anahtarlara (key) erişme `keys()`\n",
        "\n",
        "\n",
        "\n",
        "\n",
        "\n",
        "\n"
      ],
      "metadata": {
        "id": "qQne77lHjgjO"
      }
    },
    {
      "cell_type": "code",
      "source": [
        "sözlük1.keys()"
      ],
      "metadata": {
        "colab": {
          "base_uri": "https://localhost:8080/"
        },
        "id": "34wD0q9ojJP8",
        "outputId": "a7e9af6b-809b-42d4-ab88-7eca7b68a743"
      },
      "execution_count": 41,
      "outputs": [
        {
          "output_type": "execute_result",
          "data": {
            "text/plain": [
              "dict_keys(['işlemciler', 'hayvanlar'])"
            ]
          },
          "metadata": {},
          "execution_count": 41
        }
      ]
    },
    {
      "cell_type": "markdown",
      "source": [
        "Sözlük üzerindeki tüm değerlere (value) erişme `values()`"
      ],
      "metadata": {
        "id": "CwqjdxTpjo3k"
      }
    },
    {
      "cell_type": "code",
      "source": [
        "sözlük1.values()"
      ],
      "metadata": {
        "colab": {
          "base_uri": "https://localhost:8080/"
        },
        "id": "xzdpGqKcrXXG",
        "outputId": "b8304805-f70a-450d-d471-4d52b7013a57"
      },
      "execution_count": 42,
      "outputs": [
        {
          "output_type": "execute_result",
          "data": {
            "text/plain": [
              "dict_values([{'i9': 'intel', 'r9': 'ryzen', 'm2': 'apple'}, {'aslan': 'vahşi', 'kaplan': 'vahşi', 'kedi': 'normal'}])"
            ]
          },
          "metadata": {},
          "execution_count": 42
        }
      ]
    },
    {
      "cell_type": "markdown",
      "source": [
        "Sözlük üzerindeki değerleri tuple (demet) şeklinde ayırma `items()`"
      ],
      "metadata": {
        "id": "hNQ1w0CPr2ol"
      }
    },
    {
      "cell_type": "code",
      "source": [
        "sözlük1.items()"
      ],
      "metadata": {
        "colab": {
          "base_uri": "https://localhost:8080/"
        },
        "id": "mm6ysBJFr5-k",
        "outputId": "4510c78d-91f8-4c67-c853-9d65bfa4f26e"
      },
      "execution_count": 43,
      "outputs": [
        {
          "output_type": "execute_result",
          "data": {
            "text/plain": [
              "dict_items([('işlemciler', {'i9': 'intel', 'r9': 'ryzen', 'm2': 'apple'}), ('hayvanlar', {'aslan': 'vahşi', 'kaplan': 'vahşi', 'kedi': 'normal'})])"
            ]
          },
          "metadata": {},
          "execution_count": 43
        }
      ]
    },
    {
      "cell_type": "markdown",
      "source": [
        "# Örnek bir döngü (İleride detaylı anlatılacak.)\n"
      ],
      "metadata": {
        "id": "EDhQzsVasU_l"
      }
    },
    {
      "cell_type": "code",
      "source": [
        "for key,value in sözlük1.items():\n",
        "  print(key,value)\n"
      ],
      "metadata": {
        "colab": {
          "base_uri": "https://localhost:8080/"
        },
        "id": "UQeXySS0sbTj",
        "outputId": "2fa31956-9c89-484c-9a97-7af78a733962"
      },
      "execution_count": 44,
      "outputs": [
        {
          "output_type": "stream",
          "name": "stdout",
          "text": [
            "işlemciler {'i9': 'intel', 'r9': 'ryzen', 'm2': 'apple'}\n",
            "hayvanlar {'aslan': 'vahşi', 'kaplan': 'vahşi', 'kedi': 'normal'}\n"
          ]
        }
      ]
    }
  ]
}