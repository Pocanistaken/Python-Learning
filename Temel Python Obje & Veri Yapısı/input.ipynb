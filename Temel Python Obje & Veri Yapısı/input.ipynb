{
  "nbformat": 4,
  "nbformat_minor": 0,
  "metadata": {
    "colab": {
      "provenance": []
    },
    "kernelspec": {
      "name": "python3",
      "display_name": "Python 3"
    },
    "language_info": {
      "name": "python"
    }
  },
  "cells": [
    {
      "cell_type": "markdown",
      "source": [
        "## input() - Kullanıcıdan girdi alma fonksiyonu\n",
        "\n"
      ],
      "metadata": {
        "id": "8Y78-fiBvYlT"
      }
    },
    {
      "cell_type": "markdown",
      "source": [
        "**Python'da** `input()` fonksiyonu ile kullanıcılardan değer alınıp bu değeri istediğiniz gibi kullanabilirsiniz."
      ],
      "metadata": {
        "id": "b8vRSQTIw70L"
      }
    },
    {
      "cell_type": "code",
      "execution_count": 2,
      "metadata": {
        "id": "9H3UkN0avFLR",
        "colab": {
          "base_uri": "https://localhost:8080/"
        },
        "outputId": "412b7f3c-a7bf-446e-e198-64715cf2cb33"
      },
      "outputs": [
        {
          "output_type": "stream",
          "name": "stdout",
          "text": [
            "Lütfen bir sayı giriniz.35\n",
            "35\n"
          ]
        }
      ],
      "source": [
        "a = input(\"Lütfen bir sayı giriniz.\")\n",
        "print(a)"
      ]
    },
    {
      "cell_type": "markdown",
      "source": [
        "Şimdi bir test çalışması yapalım örneğin aşağıdaki kodda bir sayı girip bunun 3 ile çarpılması sonucunda örneğin girdiğimiz sayı **10** ise çıktı değerimizin **30** olması gerekiyor fakat çıktının **101010** olduğunuzu görüyoruz sizce bunun sebebi nedir?"
      ],
      "metadata": {
        "id": "GTHIucWzxReX"
      }
    },
    {
      "cell_type": "code",
      "source": [
        "b = input(\"Lütfen bir sayı giriniz.\")\n",
        "print(b * 3)"
      ],
      "metadata": {
        "colab": {
          "base_uri": "https://localhost:8080/"
        },
        "id": "PyPdxcKPxWt4",
        "outputId": "b35cbed7-6ade-48a5-e86c-c925bfb03525"
      },
      "execution_count": 3,
      "outputs": [
        {
          "output_type": "stream",
          "name": "stdout",
          "text": [
            "Lütfen bir sayı giriniz.10\n",
            "101010\n"
          ]
        }
      ]
    },
    {
      "cell_type": "markdown",
      "source": [
        "Bunun sebebi default olarak `input()` fonksiyonunu herhangi bir sayı objesi üzerinden parselemediğimiz için girdiğimiz değer string tipinde çıkmaktadır bundan ötürü **101010** şeklinde bir değer alıyoruz peki bunu nasıl düzeltebiliriz?"
      ],
      "metadata": {
        "id": "3RLus6YKxyH8"
      }
    },
    {
      "cell_type": "code",
      "source": [
        "print(type(b))"
      ],
      "metadata": {
        "colab": {
          "base_uri": "https://localhost:8080/"
        },
        "id": "6AOGeqtnyKI0",
        "outputId": "5f41bf7e-3581-46d9-fe1e-98c32628131e"
      },
      "execution_count": 4,
      "outputs": [
        {
          "output_type": "stream",
          "name": "stdout",
          "text": [
            "<class 'str'>\n"
          ]
        }
      ]
    },
    {
      "cell_type": "markdown",
      "source": [
        "Düzeltmek için `input()` fonksiyonumuzu `int()` fonksiyonunun içerisine yazmamız gerekmektedir."
      ],
      "metadata": {
        "id": "buyVzkdMyWZT"
      }
    },
    {
      "cell_type": "code",
      "source": [
        "b = int(input(\"Lütfen bir sayı giriniz.\"))\n",
        "print(b * 3)"
      ],
      "metadata": {
        "colab": {
          "base_uri": "https://localhost:8080/"
        },
        "id": "2oniysqsyV6D",
        "outputId": "769217ed-0820-4262-94f6-ae667d1eadd8"
      },
      "execution_count": 5,
      "outputs": [
        {
          "output_type": "stream",
          "name": "stdout",
          "text": [
            "Lütfen bir sayı giriniz.10\n",
            "30\n"
          ]
        }
      ]
    },
    {
      "cell_type": "markdown",
      "source": [
        "# Girilen değerin sayı olup olmadığını tespit etme.\n",
        "\n",
        "Örneğin şimdi burada input() fonksiyonun içerisine **abc** yazarsam ne hatası ile karşılaşırız?"
      ],
      "metadata": {
        "id": "jf6gtn6xyvZE"
      }
    },
    {
      "cell_type": "code",
      "source": [
        "b = int(input(\"Lütfen bir sayı giriniz.\"))\n",
        "print(b)"
      ],
      "metadata": {
        "colab": {
          "base_uri": "https://localhost:8080/",
          "height": 210
        },
        "id": "YEHyKLZVy3IP",
        "outputId": "46b4ce32-bbb7-4bec-eecf-305a89983bc4"
      },
      "execution_count": 6,
      "outputs": [
        {
          "name": "stdout",
          "output_type": "stream",
          "text": [
            "Lütfen bir sayı giriniz.abc\n"
          ]
        },
        {
          "output_type": "error",
          "ename": "ValueError",
          "evalue": "ignored",
          "traceback": [
            "\u001b[0;31m---------------------------------------------------------------------------\u001b[0m",
            "\u001b[0;31mValueError\u001b[0m                                Traceback (most recent call last)",
            "\u001b[0;32m<ipython-input-6-16df955c0692>\u001b[0m in \u001b[0;36m<cell line: 1>\u001b[0;34m()\u001b[0m\n\u001b[0;32m----> 1\u001b[0;31m \u001b[0mb\u001b[0m \u001b[0;34m=\u001b[0m \u001b[0mint\u001b[0m\u001b[0;34m(\u001b[0m\u001b[0minput\u001b[0m\u001b[0;34m(\u001b[0m\u001b[0;34m\"Lütfen bir sayı giriniz.\"\u001b[0m\u001b[0;34m)\u001b[0m\u001b[0;34m)\u001b[0m\u001b[0;34m\u001b[0m\u001b[0;34m\u001b[0m\u001b[0m\n\u001b[0m\u001b[1;32m      2\u001b[0m \u001b[0mprint\u001b[0m\u001b[0;34m(\u001b[0m\u001b[0mb\u001b[0m\u001b[0;34m)\u001b[0m\u001b[0;34m\u001b[0m\u001b[0;34m\u001b[0m\u001b[0m\n",
            "\u001b[0;31mValueError\u001b[0m: invalid literal for int() with base 10: 'abc'"
          ]
        }
      ]
    },
    {
      "cell_type": "markdown",
      "source": [
        "Evet fark ettiyseniz bir exception yakaladık **ValueError** şeklinde peki bu exceptionu nasıl yakalayıp hata çıkması yerine `print()` şeklinde bastırabiliriz?"
      ],
      "metadata": {
        "id": "OMvH8rIOzG1j"
      }
    },
    {
      "cell_type": "code",
      "source": [
        "try:\n",
        "  b = int(input(\"Lütfen bir sayı giriniz.\"))\n",
        "  print(b)\n",
        "except ValueError:\n",
        "  print(\"Lütfen input değerine sayı giriniz.\")"
      ],
      "metadata": {
        "colab": {
          "base_uri": "https://localhost:8080/"
        },
        "id": "FkQUHEK_zRiy",
        "outputId": "3e34db0b-af46-4a12-e5ec-de0de7f1219f"
      },
      "execution_count": 7,
      "outputs": [
        {
          "output_type": "stream",
          "name": "stdout",
          "text": [
            "Lütfen bir sayı giriniz.abc\n",
            "Lütfen input değerine sayı giriniz.\n"
          ]
        }
      ]
    }
  ]
}