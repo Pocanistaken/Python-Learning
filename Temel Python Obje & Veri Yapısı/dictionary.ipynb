{
  "nbformat": 4,
  "nbformat_minor": 0,
  "metadata": {
    "colab": {
      "provenance": []
    },
    "kernelspec": {
      "name": "python3",
      "display_name": "Python 3"
    },
    "language_info": {
      "name": "python"
    }
  },
  "cells": [
    {
      "cell_type": "markdown",
      "source": [
        "# Dictionary (Sözlükler)\n",
        "\n",
        "Python'da dict, ingilizcede sözlük anlamına gelen dictionary'nin kısaltması ile oluşturulmuş bir veriler topluluğudur (dize). Sıralanamaz ancak değiştirilebilir ve anahtarlarla çağırılabilir. Python'da dictionary oluştururken küme parantezi kullanılır ve her veri bir anahtar ve değerden oluşur."
      ],
      "metadata": {
        "id": "TMcTn7eFUbjK"
      }
    },
    {
      "cell_type": "code",
      "source": [
        "sözlük = {\"Elma\":0, \"Armut\":1, \"Patates\":2, \"Ananas\":3}"
      ],
      "metadata": {
        "id": "ftQwRBvlWPbk"
      },
      "execution_count": 8,
      "outputs": []
    },
    {
      "cell_type": "markdown",
      "source": [
        "Gördüğünüz üzere burada örnek bir sözlük oluşturduk şimdi python üzerinde bu oluşturduğumuz objenin türü ne olarak geçtiğini type() fonksiyonu ile kontrol edelim."
      ],
      "metadata": {
        "id": "lKQUJprmW2J1"
      }
    },
    {
      "cell_type": "code",
      "source": [
        "type(sözlük) # Evet gördüğünüz üzere bu objenin türü pythonda dict (dictionary) olarak geçiyor."
      ],
      "metadata": {
        "id": "3Nb6m8XuXD3b"
      },
      "execution_count": null,
      "outputs": []
    },
    {
      "cell_type": "markdown",
      "source": [
        "Peki örneğin yukarıda bahsettiğimiz gibi anahtar ve değer ilişkisi var ise (Key-Value) örneğin **Elma** değerine ayarlanmış **0** value değerini nasıl çağırabiliriz?"
      ],
      "metadata": {
        "id": "uRKeK3D-XoLN"
      }
    },
    {
      "cell_type": "code",
      "source": [
        "sözlük[\"Elma\"] # Konsola 0 değeri yansıtılacak\n",
        "sözlük[\"Armut\"] # Konsola 1 değeri yansıtılacak\n",
        "sözlük[\"Patates\"] # Konsola 2 değeri yansıtılacak\n",
        "sözlük[\"Ananas\"] # Konsola 3 değeri yansıtılacak"
      ],
      "metadata": {
        "id": "8AibovpdYgyj"
      },
      "execution_count": null,
      "outputs": []
    },
    {
      "cell_type": "markdown",
      "source": [
        "Sözlüklerde daha önceden belirlenmiş olan örneğin **Elma** anahtarının değerini nasıl değiştirebiliriz?"
      ],
      "metadata": {
        "id": "h-rfP5yKZImc"
      }
    },
    {
      "cell_type": "code",
      "source": [
        "sözlük[\"Elma\"] = 10 # Artık Elma anahtarının değeri 10 olarak ayarlandı\n",
        "sözlük[\"Elma\"] # Konsola 10 değeri yansıtılacak."
      ],
      "metadata": {
        "id": "HrzCDGqCeFmd"
      },
      "execution_count": null,
      "outputs": []
    },
    {
      "cell_type": "markdown",
      "source": [
        "## İç içe Sözlükler"
      ],
      "metadata": {
        "id": "mEHfAoY9fH4b"
      }
    },
    {
      "cell_type": "code",
      "source": [
        "sözlük1 = {\"işlemciler\":{\"i9\":\"intel\",\"r9\":\"ryzen\",\"m2\":\"apple\"},\"hayvanlar\":{\"aslan\":\"vahşi\",\"kaplan\":\"vahşi\",\"kedi\":\"normal\"}}\n",
        "sözlük1[\"işlemciler\"] # İşlemciler sözlüğüne eriştik.\n",
        "sözlük1[\"işlemciler\"][\"i9\"] # İşlemciler sözcüğüne erişip i9 anahtarının değerini konsola bastırdık.\n",
        "sözlük1[\"hayvanlar\"] # Hayvanlar sözlüğüne eriştik\n",
        "sözlük1[\"hayvanlar\"][\"aslan\"] # Hayvanlar sözcüğüne erişip aslan değerini konsola bastırdık."
      ],
      "metadata": {
        "id": "9GzqW2uEfV-G"
      },
      "execution_count": null,
      "outputs": []
    },
    {
      "cell_type": "markdown",
      "source": [
        "## Sözlüklerdeki bazı temel özel fonksiyonlar\n"
      ],
      "metadata": {
        "id": "RVfP1uGVi-2m"
      }
    },
    {
      "cell_type": "markdown",
      "source": [
        "Sözcük üzerindeki tüm anahtarlara (key) erişme `keys()`\n",
        "\n",
        "\n",
        "\n",
        "\n",
        "\n",
        "\n"
      ],
      "metadata": {
        "id": "qQne77lHjgjO"
      }
    },
    {
      "cell_type": "code",
      "source": [
        "sözlük1.keys()"
      ],
      "metadata": {
        "id": "34wD0q9ojJP8"
      },
      "execution_count": null,
      "outputs": []
    },
    {
      "cell_type": "markdown",
      "source": [
        "Sözlük üzerindeki tüm değerlere (value) erişme `values()`"
      ],
      "metadata": {
        "id": "CwqjdxTpjo3k"
      }
    },
    {
      "cell_type": "code",
      "source": [
        "sözlük1.values()"
      ],
      "metadata": {
        "id": "xzdpGqKcrXXG"
      },
      "execution_count": null,
      "outputs": []
    },
    {
      "cell_type": "markdown",
      "source": [
        "Sözlük üzerindeki değerleri tuple (demet) şeklinde ayırma `items()`"
      ],
      "metadata": {
        "id": "hNQ1w0CPr2ol"
      }
    },
    {
      "cell_type": "code",
      "source": [
        "sözlük1.items()"
      ],
      "metadata": {
        "id": "mm6ysBJFr5-k"
      },
      "execution_count": null,
      "outputs": []
    },
    {
      "cell_type": "markdown",
      "source": [
        "# Örnek bir döngü (İleride detaylı anlatılacak.)\n"
      ],
      "metadata": {
        "id": "EDhQzsVasU_l"
      }
    },
    {
      "cell_type": "code",
      "source": [
        "for key,value in sözlük1.items():\n",
        "  print(key,value)\n"
      ],
      "metadata": {
        "id": "UQeXySS0sbTj"
      },
      "execution_count": null,
      "outputs": []
    }
  ]
}